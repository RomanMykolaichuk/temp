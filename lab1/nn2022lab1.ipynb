{
  "nbformat": 4,
  "nbformat_minor": 0,
  "metadata": {
    "colab": {
      "name": "nn2022lab1.ipynb",
      "provenance": [],
      "authorship_tag": "ABX9TyMlsmyZmiDL/8+ek8X9sDWv",
      "include_colab_link": true
    },
    "kernelspec": {
      "name": "python3",
      "display_name": "Python 3"
    },
    "language_info": {
      "name": "python"
    },
    "accelerator": "GPU"
  },
  "cells": [
    {
      "cell_type": "markdown",
      "metadata": {
        "id": "view-in-github",
        "colab_type": "text"
      },
      "source": [
        "<a href=\"https://colab.research.google.com/github/RomanMykolaichuk/temp/blob/master/lab1/nn2022lab1.ipynb\" target=\"_parent\"><img src=\"https://colab.research.google.com/assets/colab-badge.svg\" alt=\"Open In Colab\"/></a>"
      ]
    },
    {
      "cell_type": "markdown",
      "source": [
        "# Title 1"
      ],
      "metadata": {
        "id": "TgnpF7wbr0q8"
      }
    },
    {
      "cell_type": "markdown",
      "source": [
        "# Title 2"
      ],
      "metadata": {
        "id": "_kyPeaF8r7j9"
      }
    },
    {
      "cell_type": "markdown",
      "source": [
        "## Subtitle1"
      ],
      "metadata": {
        "id": "82Pd8HDdsDW1"
      }
    },
    {
      "cell_type": "code",
      "source": [
        "a = 2\n",
        "b = 3\n",
        "\n",
        "a+b"
      ],
      "metadata": {
        "colab": {
          "base_uri": "https://localhost:8080/"
        },
        "id": "MGXAnsJbr6u6",
        "outputId": "7f6437ff-b3e2-494e-c8e2-03a17e5db176"
      },
      "execution_count": null,
      "outputs": [
        {
          "output_type": "execute_result",
          "data": {
            "text/plain": [
              "5"
            ]
          },
          "metadata": {},
          "execution_count": 1
        }
      ]
    }
  ]
}